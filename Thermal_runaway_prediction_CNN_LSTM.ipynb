{
  "nbformat": 4,
  "nbformat_minor": 0,
  "metadata": {
    "colab": {
      "provenance": []
    },
    "kernelspec": {
      "name": "python3",
      "display_name": "Python 3"
    },
    "language_info": {
      "name": "python"
    }
  },
  "cells": [
    {
      "cell_type": "markdown",
      "source": [
        "#Importing Libraries"
      ],
      "metadata": {
        "id": "otnsYBqwpbDO"
      }
    },
    {
      "cell_type": "code",
      "execution_count": null,
      "metadata": {
        "id": "4QhHIkG1iVj7"
      },
      "outputs": [],
      "source": [
        "import os\n",
        "import re\n",
        "import warnings\n",
        "import numpy as np\n",
        "import pandas as pd\n",
        "import matplotlib.pyplot as plt\n",
        "import seaborn as sns\n",
        "import tensorflow as tf\n",
        "from tensorflow.keras.models import Sequential, load_model\n",
        "from tensorflow.keras.layers import Conv1D, LSTM, Dense, Dropout\n",
        "from sklearn.preprocessing importinMaxScaler\n",
        "from sklearn.model_selection import train_test_split\n",
        "from sklearn.metrics import confusion_matrix, classification_report, roc_curve, auc\n",
        "\n",
        "warnings.filterwarnings('ignore')"
      ]
    },
    {
      "cell_type": "markdown",
      "source": [
        "#Loading Datasets, Adding a SoC column in each and then Combining the datasets"
      ],
      "metadata": {
        "id": "rdbNEDxiphbd"
      }
    },
    {
      "cell_type": "code",
      "source": [
        "folder_path = \"/content/drive/MyDrive/nvm\"\n",
        "all_files = sorted([f for f in os.listdir(folder_path) if f.endswith('.xlsx')])\n",
        "datasets = {}\n",
        "\n",
        "for file in all_files:\n",
        "    file_path = os.path.join(folder_path, file)\n",
        "    df = pd.read_excel(file_path)\n",
        "    # Extract SOC value from filename (e.g., '20SOC.xlsx')\n",
        "    soc_match = re.search(r'(\\d+)SOC', file)\n",
        "    if soc_match:\n",
        "        df[\"SOC\"] = int(soc_match.group(1))\n",
        "    datasets[file] = df\n",
        "\n",
        "print(f\"Loaded {len(datasets)} datasets successfully!\")\n",
        "for name, df in datasets.items():\n",
        "    print(f\"\\nDataset: {name}\")\n",
        "    print(df.head(), \"\\n\")"
      ],
      "metadata": {
        "colab": {
          "base_uri": "https://localhost:8080/"
        },
        "id": "bJHiQSMUilSD",
        "outputId": "1394768c-43e2-4114-e2ba-07c8ac55259e"
      },
      "execution_count": null,
      "outputs": [
        {
          "output_type": "stream",
          "name": "stdout",
          "text": [
            "Loaded 6 datasets successfully!\n",
            "\n",
            "Dataset: SNL_NMC-LMO_Graphite_26Ah_100SOC_b.xlsx\n",
            "   Test Time [s]  Displacement [mm]  Penetrator Force [mm]  vCell [V]  \\\n",
            "0           1.06             -0.055                  4.900      4.132   \n",
            "1           2.06             -0.085                  3.503      4.132   \n",
            "2           3.06             -0.009                  0.377      4.132   \n",
            "3           4.06             -0.130                  5.765      4.132   \n",
            "4           5.06             -0.124                  4.330      4.132   \n",
            "\n",
            "   tAmbient [C]  TC1 near positive terminal [C]  \\\n",
            "0          19.5                            20.3   \n",
            "1          19.5                            20.4   \n",
            "2          19.5                            20.3   \n",
            "3          19.5                            20.4   \n",
            "4          19.4                            20.4   \n",
            "\n",
            "   TC2 near negative terminal [C]  TC3 bottom - bottom [C]  \\\n",
            "0                            20.0                     20.2   \n",
            "1                            20.0                     20.2   \n",
            "2                            20.0                     20.2   \n",
            "3                            20.0                     20.2   \n",
            "4                            20.0                     20.2   \n",
            "\n",
            "   TC4 bottom - top [C]  TC5 above punch [C]  TC6 below punch [C]  SOC  \n",
            "0                  20.1                 20.2                 20.1  100  \n",
            "1                  20.1                 20.2                 20.1  100  \n",
            "2                  20.1                 20.2                 20.1  100  \n",
            "3                  20.1                 20.2                 20.1  100  \n",
            "4                  20.1                 20.2                 20.1  100   \n",
            "\n",
            "\n",
            "Dataset: SNL_NMC-LMO_Graphite_26Ah_30SOC_b.xlsx\n",
            "   Test Time [s]  Displacement [mm]  Penetrator Force [mm]  vCell [V]  \\\n",
            "0           1.06             -0.045                  3.705      3.657   \n",
            "1           2.06             -0.015                  3.963      3.657   \n",
            "2           3.06              0.013                  5.213      3.657   \n",
            "3           4.06              0.078                  4.459      3.657   \n",
            "4           5.06             -0.003                 10.104      3.657   \n",
            "\n",
            "   tAmbient [C]  TC1 near positive terminal [C]  \\\n",
            "0          20.2                            21.3   \n",
            "1          20.3                            21.3   \n",
            "2          20.3                            21.3   \n",
            "3          20.3                            21.3   \n",
            "4          20.3                            21.3   \n",
            "\n",
            "   TC2 near negative terminal [C]  TC3 bottom - bottom [C]  \\\n",
            "0                            21.3                     21.4   \n",
            "1                            21.3                     21.4   \n",
            "2                            21.3                     21.5   \n",
            "3                            21.3                     21.4   \n",
            "4                            21.3                     21.4   \n",
            "\n",
            "   TC4 bottom - top [C]  TC5 above punch [C]  TC6 below punch [C]  SOC  \n",
            "0                  21.5                 21.5                 21.4   30  \n",
            "1                  21.5                 21.5                 21.4   30  \n",
            "2                  21.5                 21.5                 21.4   30  \n",
            "3                  21.5                 21.5                 21.4   30  \n",
            "4                  21.5                 21.6                 21.5   30   \n",
            "\n",
            "\n",
            "Dataset: SNL_NMC-LMO_Graphite_26Ah_50SOC_b.xlsx\n",
            "   Test Time [s]  Displacement [mm]  Penetrator Force [mm]  vCell [V]  \\\n",
            "0           1.06             -0.102                 10.546      3.787   \n",
            "1           2.06             -0.071                  8.118      3.787   \n",
            "2           3.06              0.108                  2.602      3.787   \n",
            "3           4.06              0.080                  7.677      3.787   \n",
            "4           5.06             -0.008                  7.769      3.787   \n",
            "\n",
            "   tAmbient [C]  TC1 near positive terminal [C]  \\\n",
            "0          16.7                            16.0   \n",
            "1          16.7                            16.0   \n",
            "2          16.7                            16.0   \n",
            "3          16.7                            16.0   \n",
            "4          16.7                            16.0   \n",
            "\n",
            "   TC2 near negative terminal [C]  TC3 bottom - bottom [C]  \\\n",
            "0                            16.0                     16.0   \n",
            "1                            16.0                     16.0   \n",
            "2                            16.0                     16.0   \n",
            "3                            16.0                     16.0   \n",
            "4                            16.0                     16.0   \n",
            "\n",
            "   TC4 bottom - top [C]  TC5 above punch [C]  TC6 below punch [C]  SOC  \n",
            "0                  16.2                 16.2                 16.1   50  \n",
            "1                  16.2                 16.2                 16.1   50  \n",
            "2                  16.2                 16.2                 16.1   50  \n",
            "3                  16.2                 16.2                 16.1   50  \n",
            "4                  16.2                 16.2                 16.1   50   \n",
            "\n",
            "\n",
            "Dataset: SNL_NMC-LMO_Graphite_26Ah_75SOC_b.xlsx\n",
            "   Test Time [s]  Displacement [mm]  Penetrator Force [mm]  vCell [V]  \\\n",
            "0           1.06              0.004                  7.272      3.955   \n",
            "1           2.06             -0.016                  8.210      3.955   \n",
            "2           3.06             -0.021                  8.229      3.955   \n",
            "3           4.06              0.036                  9.516      3.955   \n",
            "4           5.06             -0.038                  7.842      3.955   \n",
            "\n",
            "   tAmbient [C]  TC1 near positive terminal [C]  \\\n",
            "0          21.0                            21.5   \n",
            "1          21.0                            21.5   \n",
            "2          21.0                            21.5   \n",
            "3          21.0                            21.5   \n",
            "4          21.1                            21.5   \n",
            "\n",
            "   TC2 near negative terminal [C]  TC3 bottom - bottom [C]  \\\n",
            "0                            21.1                     21.4   \n",
            "1                            21.1                     21.4   \n",
            "2                            21.1                     21.4   \n",
            "3                            21.1                     21.4   \n",
            "4                            21.1                     21.4   \n",
            "\n",
            "   TC4 bottom - top [C]  TC5 above punch [C]  TC6 below punch [C]  SOC  \n",
            "0                  21.4                 21.4                 21.4   75  \n",
            "1                  21.4                 21.5                 21.4   75  \n",
            "2                  21.4                 21.5                 21.4   75  \n",
            "3                  21.4                 21.5                 21.4   75  \n",
            "4                  21.4                 21.4                 21.4   75   \n",
            "\n",
            "\n",
            "Dataset: SNL_NMC-LMO_Graphite_26Ah_85SOC_b.xlsx\n",
            "   Test Time [s]  Displacement [mm]  Penetrator Force [mm]  vCell [V]  \\\n",
            "0           1.06             -0.037                  9.314      4.037   \n",
            "1           2.06             -0.105                  4.330      4.037   \n",
            "2           3.06             -0.017                  1.609      4.037   \n",
            "3           4.06             -0.116                  5.195      4.037   \n",
            "4           5.06             -0.091                 11.649      4.037   \n",
            "\n",
            "   tAmbient [C]  TC1 near positive terminal [C]  \\\n",
            "0          17.4                            16.7   \n",
            "1          17.4                            16.7   \n",
            "2          17.4                            16.7   \n",
            "3          17.4                            16.7   \n",
            "4          17.4                            16.7   \n",
            "\n",
            "   TC2 near negative terminal [C]  TC3 bottom - bottom [C]  \\\n",
            "0                            16.7                     16.7   \n",
            "1                            16.7                     16.7   \n",
            "2                            16.7                     16.7   \n",
            "3                            16.7                     16.7   \n",
            "4                            16.7                     16.7   \n",
            "\n",
            "   TC4 bottom - top [C]  TC5 above punch [C]  TC6 below punch [C]  SOC  \n",
            "0                  16.9                 16.9                 16.8   85  \n",
            "1                  16.9                 16.8                 16.8   85  \n",
            "2                  16.9                 16.9                 16.8   85  \n",
            "3                  16.9                 16.9                 16.8   85  \n",
            "4                  16.9                 16.9                 16.8   85   \n",
            "\n",
            "\n",
            "Dataset: SNL_NMC-LMO_Graphite_26Ah_90SOC_b.xlsx\n",
            "   Test Time [s]  Displacement [mm]  Penetrator Force [mm]  vCell [V]  \\\n",
            "0           1.06              0.006                  8.983       4.06   \n",
            "1           2.06             -0.053                 13.635       4.06   \n",
            "2           3.06             -0.007                 10.454       4.06   \n",
            "3           4.06              0.055                 14.793       4.06   \n",
            "4           5.06             -0.010                  9.718       4.06   \n",
            "\n",
            "   tAmbient [C]  TC1 near positive terminal [C]  \\\n",
            "0          20.0                            20.4   \n",
            "1          20.0                            20.4   \n",
            "2          20.0                            20.4   \n",
            "3          20.0                            20.4   \n",
            "4          20.0                            20.4   \n",
            "\n",
            "   TC2 near negative terminal [C]  TC3 bottom - bottom [C]  \\\n",
            "0                            20.4                     20.4   \n",
            "1                            20.4                     20.4   \n",
            "2                            20.4                     20.4   \n",
            "3                            20.3                     20.4   \n",
            "4                            20.4                     20.4   \n",
            "\n",
            "   TC4 bottom - top [C]  TC5 above punch [C]  TC6 below punch [C]  SOC  \n",
            "0                  20.4                 20.5                 20.4   90  \n",
            "1                  20.4                 20.5                 20.4   90  \n",
            "2                  20.4                 20.5                 20.4   90  \n",
            "3                  20.4                 20.5                 20.4   90  \n",
            "4                  20.4                 20.5                 20.4   90   \n",
            "\n"
          ]
        }
      ]
    },
    {
      "cell_type": "code",
      "source": [
        "combined_df = pd.concat(datasets.values(), ignore_index=True)\n",
        "print(\"Combined Dataset Preview:\")\n",
        "print(combined_df.head())\n"
      ],
      "metadata": {
        "colab": {
          "base_uri": "https://localhost:8080/"
        },
        "id": "Z5Y3bQxDjBRN",
        "outputId": "17571ae5-60de-439d-f253-0718eb5a8057"
      },
      "execution_count": null,
      "outputs": [
        {
          "output_type": "stream",
          "name": "stdout",
          "text": [
            "Combined Dataset Preview:\n",
            "   Test Time [s]  Displacement [mm]  Penetrator Force [mm]  vCell [V]  \\\n",
            "0           1.06             -0.055                  4.900      4.132   \n",
            "1           2.06             -0.085                  3.503      4.132   \n",
            "2           3.06             -0.009                  0.377      4.132   \n",
            "3           4.06             -0.130                  5.765      4.132   \n",
            "4           5.06             -0.124                  4.330      4.132   \n",
            "\n",
            "   tAmbient [C]  TC1 near positive terminal [C]  \\\n",
            "0          19.5                            20.3   \n",
            "1          19.5                            20.4   \n",
            "2          19.5                            20.3   \n",
            "3          19.5                            20.4   \n",
            "4          19.4                            20.4   \n",
            "\n",
            "   TC2 near negative terminal [C]  TC3 bottom - bottom [C]  \\\n",
            "0                            20.0                     20.2   \n",
            "1                            20.0                     20.2   \n",
            "2                            20.0                     20.2   \n",
            "3                            20.0                     20.2   \n",
            "4                            20.0                     20.2   \n",
            "\n",
            "   TC4 bottom - top [C]  TC5 above punch [C]  TC6 below punch [C]  SOC  \n",
            "0                  20.1                 20.2                 20.1  100  \n",
            "1                  20.1                 20.2                 20.1  100  \n",
            "2                  20.1                 20.2                 20.1  100  \n",
            "3                  20.1                 20.2                 20.1  100  \n",
            "4                  20.1                 20.2                 20.1  100  \n"
          ]
        }
      ]
    },
    {
      "cell_type": "markdown",
      "source": [
        "#Data Cleaning"
      ],
      "metadata": {
        "id": "JlpyrfdLqiZ2"
      }
    },
    {
      "cell_type": "code",
      "source": [
        "combined_df.isnull().sum()"
      ],
      "metadata": {
        "colab": {
          "base_uri": "https://localhost:8080/",
          "height": 460
        },
        "id": "HKPo_1ajl5GN",
        "outputId": "8c4b9c13-7642-499d-9723-5d798ff14f1d"
      },
      "execution_count": null,
      "outputs": [
        {
          "output_type": "execute_result",
          "data": {
            "text/plain": [
              "Test Time [s]                     0\n",
              "Displacement [mm]                 0\n",
              "Penetrator Force [mm]             0\n",
              "vCell [V]                         0\n",
              "tAmbient [C]                      0\n",
              "TC1 near positive terminal [C]    0\n",
              "TC2 near negative terminal [C]    0\n",
              "TC3 bottom - bottom [C]           0\n",
              "TC4 bottom - top [C]              0\n",
              "TC5 above punch [C]               0\n",
              "TC6 below punch [C]               0\n",
              "SOC                               0\n",
              "dtype: int64"
            ],
            "text/html": [
              "<div>\n",
              "<style scoped>\n",
              "    .dataframe tbody tr th:only-of-type {\n",
              "        vertical-align: middle;\n",
              "    }\n",
              "\n",
              "    .dataframe tbody tr th {\n",
              "        vertical-align: top;\n",
              "    }\n",
              "\n",
              "    .dataframe thead th {\n",
              "        text-align: right;\n",
              "    }\n",
              "</style>\n",
              "<table border=\"1\" class=\"dataframe\">\n",
              "  <thead>\n",
              "    <tr style=\"text-align: right;\">\n",
              "      <th></th>\n",
              "      <th>0</th>\n",
              "    </tr>\n",
              "  </thead>\n",
              "  <tbody>\n",
              "    <tr>\n",
              "      <th>Test Time [s]</th>\n",
              "      <td>0</td>\n",
              "    </tr>\n",
              "    <tr>\n",
              "      <th>Displacement [mm]</th>\n",
              "      <td>0</td>\n",
              "    </tr>\n",
              "    <tr>\n",
              "      <th>Penetrator Force [mm]</th>\n",
              "      <td>0</td>\n",
              "    </tr>\n",
              "    <tr>\n",
              "      <th>vCell [V]</th>\n",
              "      <td>0</td>\n",
              "    </tr>\n",
              "    <tr>\n",
              "      <th>tAmbient [C]</th>\n",
              "      <td>0</td>\n",
              "    </tr>\n",
              "    <tr>\n",
              "      <th>TC1 near positive terminal [C]</th>\n",
              "      <td>0</td>\n",
              "    </tr>\n",
              "    <tr>\n",
              "      <th>TC2 near negative terminal [C]</th>\n",
              "      <td>0</td>\n",
              "    </tr>\n",
              "    <tr>\n",
              "      <th>TC3 bottom - bottom [C]</th>\n",
              "      <td>0</td>\n",
              "    </tr>\n",
              "    <tr>\n",
              "      <th>TC4 bottom - top [C]</th>\n",
              "      <td>0</td>\n",
              "    </tr>\n",
              "    <tr>\n",
              "      <th>TC5 above punch [C]</th>\n",
              "      <td>0</td>\n",
              "    </tr>\n",
              "    <tr>\n",
              "      <th>TC6 below punch [C]</th>\n",
              "      <td>0</td>\n",
              "    </tr>\n",
              "    <tr>\n",
              "      <th>SOC</th>\n",
              "      <td>0</td>\n",
              "    </tr>\n",
              "  </tbody>\n",
              "</table>\n",
              "</div><br><label><b>dtype:</b> int64</label>"
            ]
          },
          "metadata": {},
          "execution_count": 5
        }
      ]
    },
    {
      "cell_type": "code",
      "source": [
        "combined_df.duplicated().sum()"
      ],
      "metadata": {
        "colab": {
          "base_uri": "https://localhost:8080/"
        },
        "id": "elN0gGipmI5y",
        "outputId": "282741ab-c614-4075-c451-f895158d929a"
      },
      "execution_count": null,
      "outputs": [
        {
          "output_type": "execute_result",
          "data": {
            "text/plain": [
              "np.int64(0)"
            ]
          },
          "metadata": {},
          "execution_count": 6
        }
      ]
    },
    {
      "cell_type": "markdown",
      "source": [
        "# Creating a target variable to define thermal runaway based on a threshold (120 in °C)"
      ],
      "metadata": {
        "id": "bm4cGx3Kqv5Q"
      }
    },
    {
      "cell_type": "code",
      "source": [
        "TEMP_THRESHOLD = 80          # Celsius\n",
        "TEMP_RISE_THRESHOLD = 10     # Celsius difference for a sudden rise\n",
        "VOLTAGE_DROP_THRESHOLD = 3.0 # Volts\n",
        "\n",
        "# List of temperature sensor columns\n",
        "temp_cols = [\n",
        "    'TC1 near positive terminal [C]',\n",
        "    'TC2 near negative terminal [C]',\n",
        "    'TC3 bottom - bottom [C]',\n",
        "    'TC4 bottom - top [C]',\n",
        "    'TC5 above punch [C]',\n",
        "    'TC6 below punch [C]'\n",
        "]\n",
        "\n",
        "# Compute the maximum temperature across the sensors at each time step\n",
        "combined_df['Max_Temp'] = combined_df[temp_cols].max(axis=1)\n",
        "\n",
        "# Compute the difference (rise) in maximum temperature between consecutive time steps\n",
        "combined_df['Max_Temp_Diff'] = combined_df['Max_Temp'].diff()\n",
        "\n",
        "# Compute the conditions:\n",
        "# - Maximum temperature exceeds the threshold or the sudden rise exceeds the threshold\n",
        "# - AND the cell voltage is below the voltage drop threshold\n",
        "combined_df['Thermal_Runaway'] = (\n",
        "    ((combined_df['Max_Temp'] >= TEMP_THRESHOLD) |\n",
        "     (combined_df['Max_Temp_Diff'] >= TEMP_RISE_THRESHOLD)) &\n",
        "    (combined_df[\"vCell [V]\"] < VOLTAGE_DROP_THRESHOLD)\n",
        ").astype(int)\n",
        "\n",
        "# Preview the Thermal_Runaway column\n",
        "print(\"\\nThermal Runaway Column Preview:\")\n",
        "print(combined_df[['Thermal_Runaway']].head())"
      ],
      "metadata": {
        "colab": {
          "base_uri": "https://localhost:8080/"
        },
        "id": "wTopmhuPpQiT",
        "outputId": "09acd35c-1818-44ac-903d-184935641b93"
      },
      "execution_count": null,
      "outputs": [
        {
          "output_type": "stream",
          "name": "stdout",
          "text": [
            "\n",
            "Thermal Runaway Column Preview:\n",
            "   Thermal_Runaway\n",
            "0                0\n",
            "1                0\n",
            "2                0\n",
            "3                0\n",
            "4                0\n"
          ]
        }
      ]
    },
    {
      "cell_type": "code",
      "source": [
        "# Inspect rows with thermal runaway\n",
        "thermal_runaway_df = combined_df[combined_df['Thermal_Runaway'] == 1]\n",
        "print(\"\\nSamples with Thermal Runaway (if any):\")\n",
        "print(thermal_runaway_df.head())"
      ],
      "metadata": {
        "colab": {
          "base_uri": "https://localhost:8080/"
        },
        "id": "SEnlSKJIpZoo",
        "outputId": "309574d7-d90e-4582-e95b-add6db3bdfca"
      },
      "execution_count": null,
      "outputs": [
        {
          "output_type": "stream",
          "name": "stdout",
          "text": [
            "\n",
            "Samples with Thermal Runaway (if any):\n",
            "     Test Time [s]  Displacement [mm]  Penetrator Force [mm]  vCell [V]  \\\n",
            "336         337.06              6.397                 62.290      3.858   \n",
            "337         338.06              6.379                 19.593      3.907   \n",
            "338         339.06              6.580                 15.290      3.933   \n",
            "339         340.06              6.490                 11.005      3.917   \n",
            "340         341.06              6.605                  5.746      3.906   \n",
            "\n",
            "     tAmbient [C]  TC1 near positive terminal [C]  \\\n",
            "336          19.6                            48.3   \n",
            "337          19.6                            94.7   \n",
            "338          19.6                           155.2   \n",
            "339          19.9                           192.2   \n",
            "340          20.1                           212.8   \n",
            "\n",
            "     TC2 near negative terminal [C]  TC3 bottom - bottom [C]  \\\n",
            "336                            22.7                     22.1   \n",
            "337                            25.7                     26.9   \n",
            "338                            29.5                     31.8   \n",
            "339                            33.8                     33.0   \n",
            "340                            39.8                     33.9   \n",
            "\n",
            "     TC4 bottom - top [C]  TC5 above punch [C]  TC6 below punch [C]  SOC  \\\n",
            "336                  34.5                 73.2                124.7  100   \n",
            "337                  40.2                126.6                173.3  100   \n",
            "338                  41.4                159.5                207.1  100   \n",
            "339                  41.6                179.4                222.0  100   \n",
            "340                  42.1                203.8                246.3  100   \n",
            "\n",
            "     Thermal_Runaway  \n",
            "336                1  \n",
            "337                1  \n",
            "338                1  \n",
            "339                1  \n",
            "340                1  \n"
          ]
        }
      ]
    },
    {
      "cell_type": "code",
      "source": [
        "print(combined_df.columns)\n"
      ],
      "metadata": {
        "colab": {
          "base_uri": "https://localhost:8080/"
        },
        "id": "yU5fUpB8mggv",
        "outputId": "0d4ac18a-c30b-4d31-f454-4a1535c6b42d"
      },
      "execution_count": null,
      "outputs": [
        {
          "output_type": "stream",
          "name": "stdout",
          "text": [
            "Index(['Test Time [s]', 'Displacement [mm]', 'Penetrator Force [mm]',\n",
            "       'vCell [V]', 'tAmbient [C]', 'TC1 near positive terminal [C]',\n",
            "       'TC2 near negative terminal [C]', 'TC3 bottom - bottom [C]',\n",
            "       'TC4 bottom - top [C]', 'TC5 above punch [C]', 'TC6 below punch [C]',\n",
            "       'SOC', 'Thermal_Runaway'],\n",
            "      dtype='object')\n"
          ]
        }
      ]
    },
    {
      "cell_type": "markdown",
      "source": [
        "#Splitting the dataset"
      ],
      "metadata": {
        "id": "HxvS-R3qrOzM"
      }
    },
    {
      "cell_type": "code",
      "source": [
        "feature_cols = ['Displacement [mm]', 'Penetrator Force [mm]', 'vCell [V]', 'tAmbient [C]',\n",
        "                'TC1 near positive terminal [C]', 'TC2 near negative terminal [C]',\n",
        "                'TC3 bottom - bottom [C]', 'TC4 bottom - top [C]',\n",
        "                'TC5 above punch [C]', 'TC6 below punch [C]']\n",
        "\n",
        "# Define X and y (without scaling yet)\n",
        "X = combined_df[feature_cols].values\n",
        "y = combined_df['Thermal_Runaway'].values\n",
        "X_train, X_test, y_train, y_test = train_test_split(X, y, test_size=0.2, random_state=42)"
      ],
      "metadata": {
        "id": "z9VRM89cm7Hb"
      },
      "execution_count": null,
      "outputs": []
    },
    {
      "cell_type": "markdown",
      "source": [
        "#Feature Scaling"
      ],
      "metadata": {
        "id": "GRhHulAvqpiA"
      }
    },
    {
      "cell_type": "code",
      "source": [
        "scaler = MinMaxScaler()\n",
        "X_train_scaled = scaler.fit_transform(X_train)\n",
        "X_test_scaled = scaler.transform(X_test)\n",
        "\n",
        "# Reshape for CNN-LSTM (samples, time steps, features)\n",
        "X_train_scaled = X_train_scaled.reshape((X_train_scaled.shape[0], 1, X_train_scaled.shape[1]))\n",
        "X_test_scaled = X_test_scaled.reshape((X_test_scaled.shape[0], 1, X_test_scaled.shape[1]))"
      ],
      "metadata": {
        "id": "VsAN_IbamN6f"
      },
      "execution_count": null,
      "outputs": []
    },
    {
      "cell_type": "markdown",
      "source": [
        "# Build the CNN-LSTM Model"
      ],
      "metadata": {
        "id": "mgy34fFfsjFc"
      }
    },
    {
      "cell_type": "code",
      "source": [
        "model = Sequential()\n",
        "model.add(Conv1D(filters=32, kernel_size=1, activation='relu', input_shape=(X_train_scaled.shape[1], X_train_scaled.shape[2])))\n",
        "model.add(Dropout(0.2))\n",
        "model.add(LSTM(50, activation='tanh'))\n",
        "model.add(Dropout(0.2))\n",
        "model.add(Dense(32, activation='relu'))\n",
        "model.add(Dropout(0.2))\n",
        "model.add(Dense(1, activation='sigmoid'))\n",
        "\n",
        "model.compile(optimizer='adam', loss='binary_crossentropy', metrics=['accuracy'])\n",
        "model.summary()"
      ],
      "metadata": {
        "colab": {
          "base_uri": "https://localhost:8080/",
          "height": 359
        },
        "id": "SjysXQebshUf",
        "outputId": "1edbea31-8b42-4585-ac18-24eac563c177"
      },
      "execution_count": null,
      "outputs": [
        {
          "output_type": "display_data",
          "data": {
            "text/plain": [
              "\u001b[1mModel: \"sequential\"\u001b[0m\n"
            ],
            "text/html": [
              "<pre style=\"white-space:pre;overflow-x:auto;line-height:normal;font-family:Menlo,'DejaVu Sans Mono',consolas,'Courier New',monospace\"><span style=\"font-weight: bold\">Model: \"sequential\"</span>\n",
              "</pre>\n"
            ]
          },
          "metadata": {}
        },
        {
          "output_type": "display_data",
          "data": {
            "text/plain": [
              "┏━━━━━━━━━━━━━━━━━━━━━━━━━━━━━━━━━━━━━━┳━━━━━━━━━━━━━━━━━━━━━━━━━━━━━┳━━━━━━━━━━━━━━━━━┓\n",
              "┃\u001b[1m \u001b[0m\u001b[1mLayer (type)                        \u001b[0m\u001b[1m \u001b[0m┃\u001b[1m \u001b[0m\u001b[1mOutput Shape               \u001b[0m\u001b[1m \u001b[0m┃\u001b[1m \u001b[0m\u001b[1m        Param #\u001b[0m\u001b[1m \u001b[0m┃\n",
              "┡━━━━━━━━━━━━━━━━━━━━━━━━━━━━━━━━━━━━━━╇━━━━━━━━━━━━━━━━━━━━━━━━━━━━━╇━━━━━━━━━━━━━━━━━┩\n",
              "│ conv1d (\u001b[38;5;33mConv1D\u001b[0m)                      │ (\u001b[38;5;45mNone\u001b[0m, \u001b[38;5;34m1\u001b[0m, \u001b[38;5;34m32\u001b[0m)               │             \u001b[38;5;34m352\u001b[0m │\n",
              "├──────────────────────────────────────┼─────────────────────────────┼─────────────────┤\n",
              "│ dropout (\u001b[38;5;33mDropout\u001b[0m)                    │ (\u001b[38;5;45mNone\u001b[0m, \u001b[38;5;34m1\u001b[0m, \u001b[38;5;34m32\u001b[0m)               │               \u001b[38;5;34m0\u001b[0m │\n",
              "├──────────────────────────────────────┼─────────────────────────────┼─────────────────┤\n",
              "│ lstm (\u001b[38;5;33mLSTM\u001b[0m)                          │ (\u001b[38;5;45mNone\u001b[0m, \u001b[38;5;34m50\u001b[0m)                  │          \u001b[38;5;34m16,600\u001b[0m │\n",
              "├──────────────────────────────────────┼─────────────────────────────┼─────────────────┤\n",
              "│ dropout_1 (\u001b[38;5;33mDropout\u001b[0m)                  │ (\u001b[38;5;45mNone\u001b[0m, \u001b[38;5;34m50\u001b[0m)                  │               \u001b[38;5;34m0\u001b[0m │\n",
              "├──────────────────────────────────────┼─────────────────────────────┼─────────────────┤\n",
              "│ dense (\u001b[38;5;33mDense\u001b[0m)                        │ (\u001b[38;5;45mNone\u001b[0m, \u001b[38;5;34m32\u001b[0m)                  │           \u001b[38;5;34m1,632\u001b[0m │\n",
              "├──────────────────────────────────────┼─────────────────────────────┼─────────────────┤\n",
              "│ dropout_2 (\u001b[38;5;33mDropout\u001b[0m)                  │ (\u001b[38;5;45mNone\u001b[0m, \u001b[38;5;34m32\u001b[0m)                  │               \u001b[38;5;34m0\u001b[0m │\n",
              "├──────────────────────────────────────┼─────────────────────────────┼─────────────────┤\n",
              "│ dense_1 (\u001b[38;5;33mDense\u001b[0m)                      │ (\u001b[38;5;45mNone\u001b[0m, \u001b[38;5;34m1\u001b[0m)                   │              \u001b[38;5;34m33\u001b[0m │\n",
              "└──────────────────────────────────────┴─────────────────────────────┴─────────────────┘\n"
            ],
            "text/html": [
              "<pre style=\"white-space:pre;overflow-x:auto;line-height:normal;font-family:Menlo,'DejaVu Sans Mono',consolas,'Courier New',monospace\">┏━━━━━━━━━━━━━━━━━━━━━━━━━━━━━━━━━━━━━━┳━━━━━━━━━━━━━━━━━━━━━━━━━━━━━┳━━━━━━━━━━━━━━━━━┓\n",
              "┃<span style=\"font-weight: bold\"> Layer (type)                         </span>┃<span style=\"font-weight: bold\"> Output Shape                </span>┃<span style=\"font-weight: bold\">         Param # </span>┃\n",
              "┡━━━━━━━━━━━━━━━━━━━━━━━━━━━━━━━━━━━━━━╇━━━━━━━━━━━━━━━━━━━━━━━━━━━━━╇━━━━━━━━━━━━━━━━━┩\n",
              "│ conv1d (<span style=\"color: #0087ff; text-decoration-color: #0087ff\">Conv1D</span>)                      │ (<span style=\"color: #00d7ff; text-decoration-color: #00d7ff\">None</span>, <span style=\"color: #00af00; text-decoration-color: #00af00\">1</span>, <span style=\"color: #00af00; text-decoration-color: #00af00\">32</span>)               │             <span style=\"color: #00af00; text-decoration-color: #00af00\">352</span> │\n",
              "├──────────────────────────────────────┼─────────────────────────────┼─────────────────┤\n",
              "│ dropout (<span style=\"color: #0087ff; text-decoration-color: #0087ff\">Dropout</span>)                    │ (<span style=\"color: #00d7ff; text-decoration-color: #00d7ff\">None</span>, <span style=\"color: #00af00; text-decoration-color: #00af00\">1</span>, <span style=\"color: #00af00; text-decoration-color: #00af00\">32</span>)               │               <span style=\"color: #00af00; text-decoration-color: #00af00\">0</span> │\n",
              "├──────────────────────────────────────┼─────────────────────────────┼─────────────────┤\n",
              "│ lstm (<span style=\"color: #0087ff; text-decoration-color: #0087ff\">LSTM</span>)                          │ (<span style=\"color: #00d7ff; text-decoration-color: #00d7ff\">None</span>, <span style=\"color: #00af00; text-decoration-color: #00af00\">50</span>)                  │          <span style=\"color: #00af00; text-decoration-color: #00af00\">16,600</span> │\n",
              "├──────────────────────────────────────┼─────────────────────────────┼─────────────────┤\n",
              "│ dropout_1 (<span style=\"color: #0087ff; text-decoration-color: #0087ff\">Dropout</span>)                  │ (<span style=\"color: #00d7ff; text-decoration-color: #00d7ff\">None</span>, <span style=\"color: #00af00; text-decoration-color: #00af00\">50</span>)                  │               <span style=\"color: #00af00; text-decoration-color: #00af00\">0</span> │\n",
              "├──────────────────────────────────────┼─────────────────────────────┼─────────────────┤\n",
              "│ dense (<span style=\"color: #0087ff; text-decoration-color: #0087ff\">Dense</span>)                        │ (<span style=\"color: #00d7ff; text-decoration-color: #00d7ff\">None</span>, <span style=\"color: #00af00; text-decoration-color: #00af00\">32</span>)                  │           <span style=\"color: #00af00; text-decoration-color: #00af00\">1,632</span> │\n",
              "├──────────────────────────────────────┼─────────────────────────────┼─────────────────┤\n",
              "│ dropout_2 (<span style=\"color: #0087ff; text-decoration-color: #0087ff\">Dropout</span>)                  │ (<span style=\"color: #00d7ff; text-decoration-color: #00d7ff\">None</span>, <span style=\"color: #00af00; text-decoration-color: #00af00\">32</span>)                  │               <span style=\"color: #00af00; text-decoration-color: #00af00\">0</span> │\n",
              "├──────────────────────────────────────┼─────────────────────────────┼─────────────────┤\n",
              "│ dense_1 (<span style=\"color: #0087ff; text-decoration-color: #0087ff\">Dense</span>)                      │ (<span style=\"color: #00d7ff; text-decoration-color: #00d7ff\">None</span>, <span style=\"color: #00af00; text-decoration-color: #00af00\">1</span>)                   │              <span style=\"color: #00af00; text-decoration-color: #00af00\">33</span> │\n",
              "└──────────────────────────────────────┴─────────────────────────────┴─────────────────┘\n",
              "</pre>\n"
            ]
          },
          "metadata": {}
        },
        {
          "output_type": "display_data",
          "data": {
            "text/plain": [
              "\u001b[1m Total params: \u001b[0m\u001b[38;5;34m18,617\u001b[0m (72.72 KB)\n"
            ],
            "text/html": [
              "<pre style=\"white-space:pre;overflow-x:auto;line-height:normal;font-family:Menlo,'DejaVu Sans Mono',consolas,'Courier New',monospace\"><span style=\"font-weight: bold\"> Total params: </span><span style=\"color: #00af00; text-decoration-color: #00af00\">18,617</span> (72.72 KB)\n",
              "</pre>\n"
            ]
          },
          "metadata": {}
        },
        {
          "output_type": "display_data",
          "data": {
            "text/plain": [
              "\u001b[1m Trainable params: \u001b[0m\u001b[38;5;34m18,617\u001b[0m (72.72 KB)\n"
            ],
            "text/html": [
              "<pre style=\"white-space:pre;overflow-x:auto;line-height:normal;font-family:Menlo,'DejaVu Sans Mono',consolas,'Courier New',monospace\"><span style=\"font-weight: bold\"> Trainable params: </span><span style=\"color: #00af00; text-decoration-color: #00af00\">18,617</span> (72.72 KB)\n",
              "</pre>\n"
            ]
          },
          "metadata": {}
        },
        {
          "output_type": "display_data",
          "data": {
            "text/plain": [
              "\u001b[1m Non-trainable params: \u001b[0m\u001b[38;5;34m0\u001b[0m (0.00 B)\n"
            ],
            "text/html": [
              "<pre style=\"white-space:pre;overflow-x:auto;line-height:normal;font-family:Menlo,'DejaVu Sans Mono',consolas,'Courier New',monospace\"><span style=\"font-weight: bold\"> Non-trainable params: </span><span style=\"color: #00af00; text-decoration-color: #00af00\">0</span> (0.00 B)\n",
              "</pre>\n"
            ]
          },
          "metadata": {}
        }
      ]
    },
    {
      "cell_type": "markdown",
      "source": [
        "##Training the model"
      ],
      "metadata": {
        "id": "Pf8AtEYC2q7R"
      }
    },
    {
      "cell_type": "code",
      "source": [
        "history = model.fit(X_train_scaled, y_train, epochs=20, batch_size=16, validation_data=(X_test_scaled, y_test))"
      ],
      "metadata": {
        "colab": {
          "base_uri": "https://localhost:8080/"
        },
        "id": "czqhEPdV2tv7",
        "outputId": "14141704-a9f5-4293-8b6c-747ccbaceb3d"
      },
      "execution_count": null,
      "outputs": [
        {
          "output_type": "stream",
          "name": "stdout",
          "text": [
            "Epoch 1/20\n",
            "\u001b[1m1221/1221\u001b[0m \u001b[32m━━━━━━━━━━━━━━━━━━━━\u001b[0m\u001b[37m\u001b[0m \u001b[1m9s\u001b[0m 5ms/step - accuracy: 0.9690 - loss: 0.1608 - val_accuracy: 0.9975 - val_loss: 0.0063\n",
            "Epoch 2/20\n",
            "\u001b[1m1221/1221\u001b[0m \u001b[32m━━━━━━━━━━━━━━━━━━━━\u001b[0m\u001b[37m\u001b[0m \u001b[1m5s\u001b[0m 4ms/step - accuracy: 0.9959 - loss: 0.0121 - val_accuracy: 0.9984 - val_loss: 0.0048\n",
            "Epoch 3/20\n",
            "\u001b[1m1221/1221\u001b[0m \u001b[32m━━━━━━━━━━━━━━━━━━━━\u001b[0m\u001b[37m\u001b[0m \u001b[1m5s\u001b[0m 3ms/step - accuracy: 0.9965 - loss: 0.0079 - val_accuracy: 0.9982 - val_loss: 0.0044\n",
            "Epoch 4/20\n",
            "\u001b[1m1221/1221\u001b[0m \u001b[32m━━━━━━━━━━━━━━━━━━━━\u001b[0m\u001b[37m\u001b[0m \u001b[1m6s\u001b[0m 5ms/step - accuracy: 0.9977 - loss: 0.0077 - val_accuracy: 0.9982 - val_loss: 0.0042\n",
            "Epoch 5/20\n",
            "\u001b[1m1221/1221\u001b[0m \u001b[32m━━━━━━━━━━━━━━━━━━━━\u001b[0m\u001b[37m\u001b[0m \u001b[1m14s\u001b[0m 7ms/step - accuracy: 0.9973 - loss: 0.0071 - val_accuracy: 0.9988 - val_loss: 0.0025\n",
            "Epoch 6/20\n",
            "\u001b[1m1221/1221\u001b[0m \u001b[32m━━━━━━━━━━━━━━━━━━━━\u001b[0m\u001b[37m\u001b[0m \u001b[1m6s\u001b[0m 5ms/step - accuracy: 0.9974 - loss: 0.0064 - val_accuracy: 0.9988 - val_loss: 0.0033\n",
            "Epoch 7/20\n",
            "\u001b[1m1221/1221\u001b[0m \u001b[32m━━━━━━━━━━━━━━━━━━━━\u001b[0m\u001b[37m\u001b[0m \u001b[1m11s\u001b[0m 6ms/step - accuracy: 0.9973 - loss: 0.0070 - val_accuracy: 0.9982 - val_loss: 0.0035\n",
            "Epoch 8/20\n",
            "\u001b[1m1221/1221\u001b[0m \u001b[32m━━━━━━━━━━━━━━━━━━━━\u001b[0m\u001b[37m\u001b[0m \u001b[1m15s\u001b[0m 10ms/step - accuracy: 0.9979 - loss: 0.0053 - val_accuracy: 0.9992 - val_loss: 0.0025\n",
            "Epoch 9/20\n",
            "\u001b[1m1221/1221\u001b[0m \u001b[32m━━━━━━━━━━━━━━━━━━━━\u001b[0m\u001b[37m\u001b[0m \u001b[1m14s\u001b[0m 5ms/step - accuracy: 0.9980 - loss: 0.0048 - val_accuracy: 0.9988 - val_loss: 0.0033\n",
            "Epoch 10/20\n",
            "\u001b[1m1221/1221\u001b[0m \u001b[32m━━━━━━━━━━━━━━━━━━━━\u001b[0m\u001b[37m\u001b[0m \u001b[1m10s\u001b[0m 5ms/step - accuracy: 0.9984 - loss: 0.0040 - val_accuracy: 0.9977 - val_loss: 0.0043\n",
            "Epoch 11/20\n",
            "\u001b[1m1221/1221\u001b[0m \u001b[32m━━━━━━━━━━━━━━━━━━━━\u001b[0m\u001b[37m\u001b[0m \u001b[1m9s\u001b[0m 4ms/step - accuracy: 0.9984 - loss: 0.0046 - val_accuracy: 0.9992 - val_loss: 0.0021\n",
            "Epoch 12/20\n",
            "\u001b[1m1221/1221\u001b[0m \u001b[32m━━━━━━━━━━━━━━━━━━━━\u001b[0m\u001b[37m\u001b[0m \u001b[1m6s\u001b[0m 5ms/step - accuracy: 0.9982 - loss: 0.0051 - val_accuracy: 0.9988 - val_loss: 0.0027\n",
            "Epoch 13/20\n",
            "\u001b[1m1221/1221\u001b[0m \u001b[32m━━━━━━━━━━━━━━━━━━━━\u001b[0m\u001b[37m\u001b[0m \u001b[1m9s\u001b[0m 4ms/step - accuracy: 0.9980 - loss: 0.0050 - val_accuracy: 0.9988 - val_loss: 0.0034\n",
            "Epoch 14/20\n",
            "\u001b[1m1221/1221\u001b[0m \u001b[32m━━━━━━━━━━━━━━━━━━━━\u001b[0m\u001b[37m\u001b[0m \u001b[1m5s\u001b[0m 4ms/step - accuracy: 0.9988 - loss: 0.0043 - val_accuracy: 0.9988 - val_loss: 0.0031\n",
            "Epoch 15/20\n",
            "\u001b[1m1221/1221\u001b[0m \u001b[32m━━━━━━━━━━━━━━━━━━━━\u001b[0m\u001b[37m\u001b[0m \u001b[1m4s\u001b[0m 4ms/step - accuracy: 0.9981 - loss: 0.0053 - val_accuracy: 0.9990 - val_loss: 0.0021\n",
            "Epoch 16/20\n",
            "\u001b[1m1221/1221\u001b[0m \u001b[32m━━━━━━━━━━━━━━━━━━━━\u001b[0m\u001b[37m\u001b[0m \u001b[1m7s\u001b[0m 5ms/step - accuracy: 0.9987 - loss: 0.0042 - val_accuracy: 0.9975 - val_loss: 0.0045\n",
            "Epoch 17/20\n",
            "\u001b[1m1221/1221\u001b[0m \u001b[32m━━━━━━━━━━━━━━━━━━━━\u001b[0m\u001b[37m\u001b[0m \u001b[1m4s\u001b[0m 4ms/step - accuracy: 0.9981 - loss: 0.0054 - val_accuracy: 0.9990 - val_loss: 0.0025\n",
            "Epoch 18/20\n",
            "\u001b[1m1221/1221\u001b[0m \u001b[32m━━━━━━━━━━━━━━━━━━━━\u001b[0m\u001b[37m\u001b[0m \u001b[1m6s\u001b[0m 4ms/step - accuracy: 0.9984 - loss: 0.0043 - val_accuracy: 0.9977 - val_loss: 0.0057\n",
            "Epoch 19/20\n",
            "\u001b[1m1221/1221\u001b[0m \u001b[32m━━━━━━━━━━━━━━━━━━━━\u001b[0m\u001b[37m\u001b[0m \u001b[1m6s\u001b[0m 4ms/step - accuracy: 0.9976 - loss: 0.0063 - val_accuracy: 0.9982 - val_loss: 0.0042\n",
            "Epoch 20/20\n",
            "\u001b[1m1221/1221\u001b[0m \u001b[32m━━━━━━━━━━━━━━━━━━━━\u001b[0m\u001b[37m\u001b[0m \u001b[1m4s\u001b[0m 3ms/step - accuracy: 0.9983 - loss: 0.0036 - val_accuracy: 0.9975 - val_loss: 0.0050\n"
          ]
        }
      ]
    },
    {
      "cell_type": "markdown",
      "source": [
        "##Evaluate the model"
      ],
      "metadata": {
        "id": "GXkFBitHs_uv"
      }
    },
    {
      "cell_type": "code",
      "source": [
        "loss, accuracy = model.evaluate(X_test_scaled, y_test)\n",
        "print(f\"\\nTest Loss: {loss:.4f}, Test Accuracy: {accuracy:.4f}\")"
      ],
      "metadata": {
        "colab": {
          "base_uri": "https://localhost:8080/"
        },
        "id": "2-BBQEnT20F-",
        "outputId": "99412066-d721-480c-d4f9-d7af624309c3"
      },
      "execution_count": null,
      "outputs": [
        {
          "output_type": "stream",
          "name": "stdout",
          "text": [
            "\u001b[1m153/153\u001b[0m \u001b[32m━━━━━━━━━━━━━━━━━━━━\u001b[0m\u001b[37m\u001b[0m \u001b[1m0s\u001b[0m 2ms/step - accuracy: 0.9972 - loss: 0.0060\n",
            "\n",
            "Test Loss: 0.0050, Test Accuracy: 0.9975\n"
          ]
        }
      ]
    },
    {
      "cell_type": "markdown",
      "source": [
        "##Plot Training History"
      ],
      "metadata": {
        "id": "BOxEpy0_23W9"
      }
    },
    {
      "cell_type": "code",
      "source": [
        "plt.figure(figsize=(12, 5))\n",
        "plt.subplot(1, 2, 1)\n",
        "plt.plot(history.history['accuracy'], label='Train Accuracy')\n",
        "plt.plot(history.history['val_accuracy'], label='Validation Accuracy')\n",
        "plt.xlabel('Epoch')\n",
        "plt.ylabel('Accuracy')\n",
        "plt.title('Model Accuracy')\n",
        "plt.legend()\n",
        "\n",
        "plt.subplot(1, 2, 2)\n",
        "plt.plot(history.history['loss'], label='Train Loss')\n",
        "plt.plot(history.history['val_loss'], label='Validation Loss')\n",
        "plt.xlabel('Epoch')\n",
        "plt.ylabel('Loss')\n",
        "plt.title('Model Loss')\n",
        "plt.legend()\n",
        "\n",
        "plt.tight_layout()\n",
        "plt.show()"
      ],
      "metadata": {
        "colab": {
          "base_uri": "https://localhost:8080/",
          "height": 507
        },
        "id": "9MphJbotshRo",
        "outputId": "ea2fc010-461b-4556-9cef-3d2b494eef54"
      },
      "execution_count": null,
      "outputs": [
        {
          "output_type": "display_data",
          "data": {
            "text/plain": [
              "<Figure size 1200x500 with 2 Axes>"
            ],
            "image/png": "[encoded data removed]"
          },
          "metadata": {}
        }
      ]
    },
    {
      "cell_type": "markdown",
      "source": [
        "#Performance Metrics"
      ],
      "metadata": {
        "id": "4KrTtiWtrra5"
      }
    },
    {
      "cell_type": "code",
      "source": [
        "y_pred_prob = model.predict(X_test_scaled).flatten()\n",
        "y_pred = (y_pred_prob >= 0.5).astype(int)"
      ],
      "metadata": {
        "colab": {
          "base_uri": "https://localhost:8080/"
        },
        "id": "JW07NAgTqy0Q",
        "outputId": "04150369-3d5f-4afe-bbbc-98ece0e8123e"
      },
      "execution_count": null,
      "outputs": [
        {
          "output_type": "stream",
          "name": "stdout",
          "text": [
            "\u001b[1m153/153\u001b[0m \u001b[32m━━━━━━━━━━━━━━━━━━━━\u001b[0m\u001b[37m\u001b[0m \u001b[1m0s\u001b[0m 2ms/step\n"
          ]
        }
      ]
    },
    {
      "cell_type": "markdown",
      "source": [
        "##Confusion Matrix"
      ],
      "metadata": {
        "id": "PP3t75EtsKjP"
      }
    },
    {
      "cell_type": "code",
      "source": [
        "cm = confusion_matrix(y_test, y_pred)\n",
        "print(\"Confusion Matrix:\")\n",
        "print(cm)\n",
        "\n",
        "plt.figure(figsize=(6, 5))\n",
        "sns.heatmap(cm, annot=True, fmt='d', cmap='Blues',\n",
        "            xticklabels=['Normal', 'Thermal Runaway'], yticklabels=['Normal', 'Thermal Runaway'])\n",
        "plt.xlabel('Predicted')\n",
        "plt.ylabel('Actual')\n",
        "plt.title('Confusion Matrix')\n",
        "plt.show()"
      ],
      "metadata": {
        "colab": {
          "base_uri": "https://localhost:8080/",
          "height": 541
        },
        "id": "tR13DTHFrmAW",
        "outputId": "37040cba-6005-49b4-f8bf-0328844d7dc4"
      },
      "execution_count": null,
      "outputs": [
        {
          "output_type": "stream",
          "name": "stdout",
          "text": [
            "Confusion Matrix:\n",
            "[[4660   12]\n",
            " [   0  210]]\n"
          ]
        },
        {
          "output_type": "display_data",
          "data": {
            "text/plain": [
              "<Figure size 600x500 with 2 Axes>"
            ],
            "image/png": "[encoded data removed]"
          },
          "metadata": {}
        }
      ]
    },
    {
      "cell_type": "markdown",
      "source": [
        "##Classification Report"
      ],
      "metadata": {
        "id": "sSWCG7CisOgg"
      }
    },
    {
      "cell_type": "code",
      "source": [
        "cr = classification_report(y_test, y_pred, target_names=['Normal', 'Thermal Runaway'])\n",
        "print(\"Classification Report:\")\n",
        "print(cr)"
      ],
      "metadata": {
        "colab": {
          "base_uri": "https://localhost:8080/"
        },
        "id": "3D73H_G4rl86",
        "outputId": "b97d89a5-50d4-4381-d9e8-57385c6cce30"
      },
      "execution_count": null,
      "outputs": [
        {
          "output_type": "stream",
          "name": "stdout",
          "text": [
            "Classification Report:\n",
            "                 precision    recall  f1-score   support\n",
            "\n",
            "         Normal       1.00      1.00      1.00      4672\n",
            "Thermal Runaway       0.95      1.00      0.97       210\n",
            "\n",
            "       accuracy                           1.00      4882\n",
            "      macro avg       0.97      1.00      0.99      4882\n",
            "   weighted avg       1.00      1.00      1.00      4882\n",
            "\n"
          ]
        }
      ]
    },
    {
      "cell_type": "markdown",
      "source": [
        "##ROC Curve and AUC"
      ],
      "metadata": {
        "id": "hAFTs31DsRQ6"
      }
    },
    {
      "cell_type": "code",
      "source": [
        "fpr, tpr, thresholds = roc_curve(y_test, y_pred_prob)\n",
        "roc_auc = auc(fpr, tpr)\n",
        "\n",
        "plt.figure(figsize=(6, 5))\n",
        "plt.plot(fpr, tpr, label=f'ROC Curve (AUC = {roc_auc:.2f})')\n",
        "plt.plot([0, 1], [0, 1], 'k--')\n",
        "plt.xlabel('False Positive Rate')\n",
        "plt.ylabel('True Positive Rate')\n",
        "plt.title('ROC Curve')\n",
        "plt.legend(loc='lower right')\n",
        "plt.show()"
      ],
      "metadata": {
        "colab": {
          "base_uri": "https://localhost:8080/",
          "height": 487
        },
        "id": "r3WvYjV5rl6Y",
        "outputId": "c6e46364-b702-41aa-c416-6a5ffea037c0"
      },
      "execution_count": null,
      "outputs": [
        {
          "output_type": "display_data",
          "data": {
            "text/plain": [
              "<Figure size 600x500 with 1 Axes>"
            ],
            "image/png": "[encoded data removed]"
          },
          "metadata": {}
        }
      ]
    },
    {
      "cell_type": "markdown",
      "source": [
        "#Saving the Model"
      ],
      "metadata": {
        "id": "d9RyOzGZrXlr"
      }
    },
    {
      "cell_type": "code",
      "source": [
        "model.save('thermal_runaway_model.h5')\n",
        "model = load_model('thermal_runaway_model.h5')\n",
        "print(\"Model saved and reloaded successfully.\")\n"
      ],
      "metadata": {
        "colab": {
          "base_uri": "https://localhost:8080/"
        },
        "id": "CsJ4MOYrtSCO",
        "outputId": "e85defa5-2b13-4534-e041-424e4964e375"
      },
      "execution_count": null,
      "outputs": [
        {
          "output_type": "stream",
          "name": "stderr",
          "text": [
            "WARNING:absl:You are saving your model as an HDF5 file via `model.save()` or `keras.saving.save_model(model)`. This file format is considered legacy. We recommend using instead the native Keras format, e.g. `model.save('my_model.keras')` or `keras.saving.save_model(model, 'my_model.keras')`. \n",
            "WARNING:absl:Compiled the loaded model, but the compiled metrics have yet to be built. `model.compile_metrics` will be empty until you train or evaluate the model.\n"
          ]
        },
        {
          "output_type": "stream",
          "name": "stdout",
          "text": [
            "Model saved and reloaded successfully.\n"
          ]
        }
      ]
    },
    {
      "cell_type": "code",
      "source": [],
      "metadata": {
        "id": "nDWuV-dztvrF"
      },
      "execution_count": null,
      "outputs": []
    }
  ]
}